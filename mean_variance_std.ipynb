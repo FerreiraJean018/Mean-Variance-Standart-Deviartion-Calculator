{
  "cells": [
    {
      "cell_type": "markdown",
      "metadata": {
        "id": "view-in-github",
        "colab_type": "text"
      },
      "source": [
        "<a href=\"https://colab.research.google.com/github/FerreiraJean018/Mean-Variance-Standart-Deviartion-Calculator/blob/main/mean_variance_std.ipynb\" target=\"_parent\"><img src=\"https://colab.research.google.com/assets/colab-badge.svg\" alt=\"Open In Colab\"/></a>"
      ]
    },
    {
      "cell_type": "markdown",
      "metadata": {
        "id": "0sR1DBCSGCtK"
      },
      "source": [
        "I'll create a function using the Numpy library to output the Mean, Variance, Standart Deviation, max, min and the sum of the rows, columns, and elements in a matrix 3x3\n",
        "\n",
        "The input of the function should be a list contaning 9 digits. The function will convert the list into a numpy 3x3 matrix and return a dictionary contaning the mean, variance, standart deviation, max, min and sum of this matrix."
      ]
    },
    {
      "cell_type": "code",
      "execution_count": 16,
      "metadata": {
        "colab": {
          "base_uri": "https://localhost:8080/"
        },
        "id": "RYURgR15GEBt",
        "outputId": "316f51ab-abf9-4194-b51a-8ae6d7889a6f"
      },
      "outputs": [
        {
          "output_type": "stream",
          "name": "stdout",
          "text": [
            "{'mean': [[3.6666666666666665, 5.0, 3.0], [3.3333333333333335, 4.0, 4.333333333333333], 3.888888888888889], 'variance': [[9.555555555555557, 0.6666666666666666, 8.666666666666666], [3.555555555555556, 10.666666666666666, 6.222222222222221], 6.987654320987654], 'standard deviation': [[3.091206165165235, 0.816496580927726, 2.943920288775949], [1.8856180831641267, 3.265986323710904, 2.494438257849294], 2.6434171674156266], 'max': [[8.0, 6.0, 7.0], [6.0, 8.0, 7.0], 8.0], 'min': [[1.0, 4.0, 0.0], [2.0, 0.0, 1.0], 0.0], 'sum': [[11.0, 15.0, 9.0], [10.0, 12.0, 13.0], 35.0]}\n"
          ]
        }
      ],
      "source": [
        "import numpy as np\n",
        "\n",
        "def calculate(list):\n",
        "\n",
        "    if len(list) != 9:\n",
        "        print('List must contain nine numbers.')\n",
        "\n",
        "    new_list = np.float64(np.array(list).reshape(3, 3))\n",
        "    np.set_printoptions(precision=16, suppress=True)\n",
        "\n",
        "\n",
        "    mean = []\n",
        "    mean.append(np.mean(new_list, axis=0).tolist())\n",
        "    mean.append(np.mean(new_list, axis=1).tolist())\n",
        "    mean.append(np.float64(np.mean(new_list)))\n",
        "\n",
        "    variance = []\n",
        "    variance.append(np.var(new_list, axis = 0).tolist())\n",
        "    variance.append(np.var(new_list, axis = 1).tolist())\n",
        "    variance.append(np.float64(np.var(new_list)))\n",
        "\n",
        "\n",
        "    standart_deviation = []\n",
        "    standart_deviation.append(np.std(new_list, axis = 0).tolist())\n",
        "    standart_deviation.append(np.std(new_list, axis = 1).tolist())\n",
        "    standart_deviation.append(np.float64(np.std(new_list)))\n",
        "\n",
        "    max_val = []\n",
        "    max_val.append(np.max(new_list, axis = 0).tolist())\n",
        "    max_val.append(np.max(new_list, axis = 1).tolist())\n",
        "    max_val.append(np.float64(np.max(new_list)))\n",
        "\n",
        "    min_val = []\n",
        "    min_val.append(np.min(new_list, axis = 0).tolist())\n",
        "    min_val.append(np.min(new_list, axis = 1).tolist())\n",
        "    min_val.append(np.float64(np.min(new_list)))\n",
        "\n",
        "    sum_val = []\n",
        "    sum_val.append(np.sum(new_list, axis = 0).tolist())\n",
        "    sum_val.append(np.sum(new_list, axis = 1).tolist())\n",
        "    sum_val.append(np.float64(np.sum(new_list)))\n",
        "\n",
        "\n",
        "    calculations = {\n",
        "        'mean' : [],\n",
        "        'variance': [],\n",
        "        'standard deviation': [],\n",
        "        'max': [],\n",
        "        'min': [],\n",
        "        'sum': []\n",
        "    }\n",
        "\n",
        "    calculations['mean'] = mean\n",
        "    calculations['variance'] = variance\n",
        "    calculations['standard deviation'] = standart_deviation\n",
        "    calculations['max'] = max_val\n",
        "    calculations['min'] = min_val\n",
        "    calculations['sum'] = sum_val\n",
        "\n",
        "\n",
        "\n",
        "    return calculations\n"
      ]
    }
  ],
  "metadata": {
    "colab": {
      "provenance": [],
      "authorship_tag": "ABX9TyPPpq7n2Pf6DNfS6uCJdqH0",
      "include_colab_link": true
    },
    "kernelspec": {
      "display_name": "Python 3",
      "name": "python3"
    },
    "language_info": {
      "name": "python"
    }
  },
  "nbformat": 4,
  "nbformat_minor": 0
}